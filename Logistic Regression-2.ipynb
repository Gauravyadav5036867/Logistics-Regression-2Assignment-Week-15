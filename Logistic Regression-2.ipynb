{
 "cells": [
  {
   "cell_type": "code",
   "execution_count": null,
   "id": "fbd657f8-6698-4716-89be-b8045e6fece9",
   "metadata": {},
   "outputs": [],
   "source": [
    "#Question 1\n",
    "\n",
    "Grid search cv in machine learning\n",
    "GridSearchCV is a tool from the scikit-learn library used for hyperparameter tuning in machine learning. It essentially automates the process of finding the optimal combination of hyperparameters for a given machine learning model."
   ]
  },
  {
   "cell_type": "code",
   "execution_count": null,
   "id": "6f32a858-5cdb-46df-ba9f-cf91e632b6a4",
   "metadata": {},
   "outputs": [],
   "source": [
    "#Question 2\n",
    "\n",
    "Grid search can search a large number of hyperparameters, but it can become computationally expensive as the number of hyperparameters increases. Random search, on the other hand, can search a larger number of hyperparameters without becoming too computationally expensive, as it samples hyperparameters randomly."
   ]
  },
  {
   "cell_type": "code",
   "execution_count": null,
   "id": "4dbdc69b-1841-4b58-9c43-e18b4da4544d",
   "metadata": {},
   "outputs": [],
   "source": [
    "#Question 3\n",
    "\n",
    "Data leakage (or leakage) happens when your training data contains information about the target, but similar data will not be available when the model is used for prediction. This leads to high performance on the training set (and possibly even the validation data), but the model will perform poorly in production."
   ]
  },
  {
   "cell_type": "code",
   "execution_count": null,
   "id": "1e9aef35-4df2-451e-9e28-97e983dc362d",
   "metadata": {},
   "outputs": [],
   "source": [
    "#Question 4\n",
    "\n",
    "‍Proper Data Splitting: It is crucial to separate your data into distinct training and validation sets. ...\n",
    "‍Cross-Validation: Proper cross-validation helps mitigate data leakage and ensures reliable model evaluation."
   ]
  },
  {
   "cell_type": "code",
   "execution_count": null,
   "id": "b5cb1354-7c70-493a-affa-592fbf64d777",
   "metadata": {},
   "outputs": [],
   "source": [
    "#Question 5\n",
    "\n",
    "A confusion matrix represents the prediction summary in matrix form. It shows how many prediction are correct and incorrect per class. It helps in understanding the classes that are being confused by model as other class."
   ]
  },
  {
   "cell_type": "code",
   "execution_count": null,
   "id": "d0861c87-dee7-47d0-9a56-bc552e6a3e7b",
   "metadata": {},
   "outputs": [],
   "source": [
    "#Question 6\n",
    "\n",
    "Key Takeaways. Precision and recall are two evaluation metrics used to measure the performance of a classifier in binary and multiclass classification problems. Precision measures the accuracy of positive predictions, while recall measures the completeness of positive predictions."
   ]
  },
  {
   "cell_type": "code",
   "execution_count": null,
   "id": "466779f5-8dd0-4792-aef9-c1510343f03f",
   "metadata": {},
   "outputs": [],
   "source": [
    "#Question 7\n",
    "\n",
    "The confusion matrix shows the number of correct predictions: true positives (TP) and true negatives (TN). It also shows the model errors: false positives (FP) are “false alarms,” and false negatives (FN) are missed cases."
   ]
  },
  {
   "cell_type": "code",
   "execution_count": null,
   "id": "1a9a3ebc-cf72-4238-955a-bf16a4241cff",
   "metadata": {},
   "outputs": [],
   "source": [
    "#Question 8\n",
    "\n",
    "Precision = T P T P + F P \\text{Precision} = \\frac{TP}{TP+FP} Precision=TP+FPTP.\n",
    "Recall = T P T P + F N \\text{Recall} = \\frac{TP}{TP+FN} Recall=TP+FNTP.\n",
    "Specificity = T N T N + F P \\text{Specificity} = \\frac{TN}{TN+FP} Specificity=TN+FPTN."
   ]
  },
  {
   "cell_type": "code",
   "execution_count": null,
   "id": "fc8b5379-e611-4eca-9eb6-aa073a303132",
   "metadata": {},
   "outputs": [],
   "source": [
    "#Question 9\n",
    "\n"
   ]
  }
 ],
 "metadata": {
  "kernelspec": {
   "display_name": "Python 3 (ipykernel)",
   "language": "python",
   "name": "python3"
  },
  "language_info": {
   "codemirror_mode": {
    "name": "ipython",
    "version": 3
   },
   "file_extension": ".py",
   "mimetype": "text/x-python",
   "name": "python",
   "nbconvert_exporter": "python",
   "pygments_lexer": "ipython3",
   "version": "3.10.8"
  }
 },
 "nbformat": 4,
 "nbformat_minor": 5
}
